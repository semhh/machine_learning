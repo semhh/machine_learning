{
 "cells": [
  {
   "cell_type": "code",
   "execution_count": 1,
   "id": "fa4d6467",
   "metadata": {},
   "outputs": [],
   "source": [
    "# # importing scikit learn with make_blobs\n",
    "# from sklearn.datasets import make_blobs\n",
    "  \n",
    "# # creating datasets X containing n_samples\n",
    "# # Y containing two classes\n",
    "# X, Y = make_blobs(n_samples=500, centers=2, random_state=0, cluster_std=0.40)\n",
    "# import matplotlib.pyplot as plt\n",
    "# # plotting scatters \n",
    "# plt.scatter(X[:, 0], X[:, 1], c=Y, s=50, cmap='spring');\n",
    "# plt.show()"
   ]
  },
  {
   "cell_type": "code",
   "execution_count": 2,
   "id": "a0bc329e",
   "metadata": {},
   "outputs": [],
   "source": [
    "import numpy as np\n",
    "import pandas as pd\n",
    "import seaborn as sn\n",
    "from matplotlib import pyplot as plt \n",
    "from sklearn.svm import SVC\n",
    "from sklearn.model_selection import cross_val_score\n",
    "import statistics\n",
    "from sklearn.metrics import confusion_matrix,classification_report\n",
    "from sklearn.model_selection import train_test_split\n",
    "import cvxopt"
   ]
  },
  {
   "cell_type": "code",
   "execution_count": 3,
   "id": "6d59c3f9",
   "metadata": {},
   "outputs": [],
   "source": [
    "# class SVM:\n",
    "#     def fit(self, X, y):\n",
    "#         n_samples, n_features = X.shape\n",
    "# # P = X^T X\n",
    "#         K = np.zeros((n_samples, n_samples))\n",
    "#         for i in range(n_samples):\n",
    "#             for j in range(n_samples):\n",
    "#                 K[i,j] = np.dot(X[i], X[j])\n",
    "#         P = cvxopt.matrix(np.outer(y, y) * K)\n",
    "#         # q = -1 (1xN)\n",
    "#         q = cvxopt.matrix(np.ones(n_samples) * -1)\n",
    "#         # A = y^T \n",
    "#         A = cvxopt.matrix(y, (1, n_samples))\n",
    "#         # b = 0 \n",
    "#         b = cvxopt.matrix(0.0)\n",
    "#         # -1 (NxN)\n",
    "#         G = cvxopt.matrix(np.diag(np.ones(n_samples) * -1))\n",
    "#         # 0 (1xN)\n",
    "#         h = cvxopt.matrix(np.zeros(n_samples))\n",
    "#         solution = cvxopt.solvers.qp(P, q, G, h, A, b)\n",
    "#         # Lagrange multipliers\n",
    "#         a = np.ravel(solution['x'])\n",
    "#         # Lagrange have non zero lagrange multipliers\n",
    "#         sv = a > 1e-5\n",
    "#         ind = np.arange(len(a))[sv]\n",
    "#         self.a = a[sv]\n",
    "#         self.sv = X[sv]\n",
    "#         self.sv_y = y[sv]\n",
    "#         # Intercept\n",
    "#         self.b = 0\n",
    "#         for n in range(len(self.a)):\n",
    "#             self.b += self.sv_y[n]\n",
    "#             self.b -= np.sum(self.a * self.sv_y * K[ind[n], sv])\n",
    "#         self.b /= len(self.a)\n",
    "#         # Weights\n",
    "#         self.w = np.zeros(n_features)\n",
    "#         for n in range(len(self.a)):\n",
    "#             self.w += self.a[n] * self.sv_y[n] * self.sv[n]\n",
    "\n",
    "#     def project(self, X):\n",
    "#         return np.dot(X, self.w) + self.b\n",
    "\n",
    "\n",
    "#     def predict(self, X):\n",
    "#         return np.sign(self.project(X))"
   ]
  },
  {
   "cell_type": "code",
   "execution_count": 4,
   "id": "ad2a0fb3",
   "metadata": {},
   "outputs": [],
   "source": [
    "def svm(X, Y, c):\n",
    "    m = len(X)\n",
    "    P = matrix(np.dot(Y, Y.T) * np.dot(X, X.T))\n",
    "    q = matrix(np.ones(m) * -1)\n",
    "    g1 = np.asarray(np.diag(np.ones(m) * -1))\n",
    "    g2 = np.asarray(np.diag(np.ones(m)))\n",
    "    G = matrix(np.append(g1, g2, axis=0))\n",
    "    h = matrix(np.append(np.zeros(m), (np.ones(m) * c), axis =0))\n",
    "    A = np.reshape((Y.T), (1,m))\n",
    "    b = matrix([0])\n",
    "\n",
    "    print (A).shape\n",
    "\n",
    "    A = matrix(A)\n",
    "    A = A.astype('float')\n",
    "    \n",
    "    sol = solvers.qp(P, q, G, h, A, b)\n",
    "    print(sol)"
   ]
  },
  {
   "cell_type": "code",
   "execution_count": 5,
   "id": "5d2e27c0",
   "metadata": {},
   "outputs": [],
   "source": [
    "\n",
    "X = np.random.uniform(-1, 10, size = (200,2));\n",
    "np.random.seed(0)\n",
    "\n",
    "n1,n2 = 100,100\n",
    "n = n1+n2\n",
    "\n",
    "X1 = np.random.normal([4,6], 0.5, (n1, 2))\n",
    "X2 = np.random.normal([-1,1], 0.5, (n2, 2))\n",
    "\n",
    "X = np.concatenate((X1,X2))\n",
    "np.random.shuffle(X)\n",
    "\n",
    "Y = 1*np.logical_xor(X[:, 0] > 0 , X[:, 1] > 0)\n",
    "Y[Y==0] = -1\n",
    "\n",
    "noiseLevel = 0.6\n",
    "noise = noiseLevel * np.random.randn(n, 2)\n",
    "X +=noise "
   ]
  },
  {
   "cell_type": "code",
   "execution_count": 6,
   "id": "523a6980",
   "metadata": {},
   "outputs": [
    {
     "data": {
      "text/html": [
       "<div>\n",
       "<style scoped>\n",
       "    .dataframe tbody tr th:only-of-type {\n",
       "        vertical-align: middle;\n",
       "    }\n",
       "\n",
       "    .dataframe tbody tr th {\n",
       "        vertical-align: top;\n",
       "    }\n",
       "\n",
       "    .dataframe thead th {\n",
       "        text-align: right;\n",
       "    }\n",
       "</style>\n",
       "<table border=\"1\" class=\"dataframe\">\n",
       "  <thead>\n",
       "    <tr style=\"text-align: right;\">\n",
       "      <th></th>\n",
       "      <th>X1</th>\n",
       "      <th>X2</th>\n",
       "      <th>Y</th>\n",
       "    </tr>\n",
       "  </thead>\n",
       "  <tbody>\n",
       "    <tr>\n",
       "      <th>0</th>\n",
       "      <td>5.107011</td>\n",
       "      <td>4.854087</td>\n",
       "      <td>-1</td>\n",
       "    </tr>\n",
       "    <tr>\n",
       "      <th>1</th>\n",
       "      <td>-0.930363</td>\n",
       "      <td>-0.050416</td>\n",
       "      <td>1</td>\n",
       "    </tr>\n",
       "    <tr>\n",
       "      <th>2</th>\n",
       "      <td>4.001498</td>\n",
       "      <td>6.351039</td>\n",
       "      <td>-1</td>\n",
       "    </tr>\n",
       "    <tr>\n",
       "      <th>3</th>\n",
       "      <td>2.997893</td>\n",
       "      <td>5.496348</td>\n",
       "      <td>-1</td>\n",
       "    </tr>\n",
       "    <tr>\n",
       "      <th>4</th>\n",
       "      <td>4.593971</td>\n",
       "      <td>5.073170</td>\n",
       "      <td>-1</td>\n",
       "    </tr>\n",
       "  </tbody>\n",
       "</table>\n",
       "</div>"
      ],
      "text/plain": [
       "         X1        X2  Y\n",
       "0  5.107011  4.854087 -1\n",
       "1 -0.930363 -0.050416  1\n",
       "2  4.001498  6.351039 -1\n",
       "3  2.997893  5.496348 -1\n",
       "4  4.593971  5.073170 -1"
      ]
     },
     "execution_count": 6,
     "metadata": {},
     "output_type": "execute_result"
    }
   ],
   "source": [
    "df_dict = {\"X1\":X[:,0], \"X2\":X[:,1],\"Y\":Y}\n",
    "\n",
    "df = pd.DataFrame(df_dict)\n",
    "df.head()"
   ]
  },
  {
   "cell_type": "code",
   "execution_count": 7,
   "id": "e5935b90",
   "metadata": {},
   "outputs": [
    {
     "data": {
      "image/png": "[encoded data removed]",
      "text/plain": [
       "<Figure size 432x432 with 1 Axes>"
      ]
     },
     "metadata": {
      "needs_background": "light"
     },
     "output_type": "display_data"
    }
   ],
   "source": [
    "plt.figure(1, figsize=(6,6)) \n",
    "plt.title('Dataset Distribution')\n",
    "plt.scatter(X[:, 0], X[:, 1], s=100, c=Y, edgecolors='k')\n",
    "plt.show()"
   ]
  },
  {
   "cell_type": "code",
   "execution_count": null,
   "id": "c274f7d8",
   "metadata": {},
   "outputs": [],
   "source": [
    "import numpy as np\n",
    "import matplotlib.pyplot as plt\n",
    "from sklearn import svm\n",
    "from sklearn.datasets import make_blobs\n",
    "\n",
    "\n",
    "# we create 40 separable points\n",
    "X, y = make_blobs(n_samples=40, centers=2, random_state=6)\n",
    "\n",
    "# fit the model, don't regularize for illustration purposes\n",
    "clf = svm.SVC(kernel=\"linear\", C=1000)\n",
    "clf.fit(X, y)\n",
    "\n",
    "plt.scatter(X[:, 0], X[:, 1], c=y, s=30, cmap=plt.cm.Paired)\n",
    "\n",
    "# plot the decision function\n",
    "ax = plt.gca()\n",
    "xlim = ax.get_xlim()\n",
    "ylim = ax.get_ylim()\n",
    "\n",
    "# create grid to evaluate model\n",
    "xx = np.linspace(xlim[0], xlim[1], 30)\n",
    "yy = np.linspace(ylim[0], ylim[1], 30)\n",
    "YY, XX = np.meshgrid(yy, xx)\n",
    "xy = np.vstack([XX.ravel(), YY.ravel()]).T\n",
    "Z = clf.decision_function(xy).reshape(XX.shape)\n",
    "\n",
    "# plot decision boundary and margins\n",
    "ax.contour(\n",
    "    XX, YY, Z, colors=\"k\", levels=[-1, 0, 1], alpha=0.5, linestyles=[\"--\", \"-\", \"--\"]\n",
    ")\n",
    "# plot support vectors\n",
    "ax.scatter(\n",
    "    clf.support_vectors_[:, 0],\n",
    "    clf.support_vectors_[:, 1],\n",
    "    s=100,\n",
    "    linewidth=1,\n",
    "    facecolors=\"none\",\n",
    "    edgecolors=\"k\",\n",
    ")\n",
    "plt.show()"
   ]
  },
  {
   "cell_type": "code",
   "execution_count": 8,
   "id": "f628dedd",
   "metadata": {},
   "outputs": [],
   "source": [
    "# #find best degree\n",
    "\n",
    "# kfold=10\n",
    "# best_degree = 1\n",
    "# best_score = 0\n",
    "# scores = []\n",
    "\n",
    "# for i in range(1,10):\n",
    "#     svm_classifier = SVC(kernel=\"poly\",degree=i)\n",
    "#     svmScores = cross_val_score(svm_classifier, X, Y.ravel(), cv=kfold, scoring=\"accuracy\")\n",
    "#     score = statistics.mean(svmScores)\n",
    "#     scores.append(score)\n",
    "    \n",
    "#     if score > best_score:\n",
    "#         best_score=score\n",
    "#         best_degree=i\n",
    "#     print('Average accuracy in 10- fold cross-validation for SVM with degree',i , ' is ', score)\n",
    "\n",
    "# print(\"\\n\\nBest degree is\",best_degree,\" with score \",best_score)"
   ]
  },
  {
   "cell_type": "code",
   "execution_count": 9,
   "id": "3edc0ea0",
   "metadata": {},
   "outputs": [],
   "source": [
    "# #find optimum C\n",
    "\n",
    "# scores = []\n",
    "# best_C = 1\n",
    "# best_score = 0\n",
    "# rangeC = 1000\n",
    "# for c in range(1,rangeC):\n",
    "#     svm_classifier = SVC(kernel=\"poly\",degree=best_degree,C=c/100)\n",
    "#     svmScores = cross_val_score(svm_classifier, X, Y.ravel(), cv=kfold, scoring=\"accuracy\")\n",
    "#     score = statistics.mean(svmScores)\n",
    "#     scores.append(score)\n",
    "#     if score > best_score:\n",
    "#         best_score=score\n",
    "#         best_C=c/100\n",
    "#     #print('Average accuracy in 10- fold cross-validation for SVM with degree',best_degree ,\"and C\",c, ' is ', score)\n",
    "\n",
    "# print(\"\\n\\nBest C is\",best_C,\" with score \",best_score)"
   ]
  },
  {
   "cell_type": "code",
   "execution_count": 10,
   "id": "1e054118",
   "metadata": {},
   "outputs": [],
   "source": [
    "# svm_classifier = SVC(kernel=\"poly\",degree=best_degree,C=best_C)\n",
    "# svm_classifier.fit(X,Y)\n",
    "# Y_hat = svm_classifier.predict(X)\n",
    "# print(classification_report(Y,Y_hat))"
   ]
  },
  {
   "cell_type": "code",
   "execution_count": 11,
   "id": "8fa35968",
   "metadata": {},
   "outputs": [
    {
     "ename": "NameError",
     "evalue": "name 'Y_hat' is not defined",
     "output_type": "error",
     "traceback": [
      "\u001b[1;31m---------------------------------------------------------------------------\u001b[0m",
      "\u001b[1;31mNameError\u001b[0m                                 Traceback (most recent call last)",
      "\u001b[1;32m<ipython-input-11-1a893fba89f3>\u001b[0m in \u001b[0;36m<module>\u001b[1;34m\u001b[0m\n\u001b[0;32m      9\u001b[0m \u001b[1;33m\u001b[0m\u001b[0m\n\u001b[0;32m     10\u001b[0m \u001b[1;31m#show misclassification\u001b[0m\u001b[1;33m\u001b[0m\u001b[1;33m\u001b[0m\u001b[1;33m\u001b[0m\u001b[0m\n\u001b[1;32m---> 11\u001b[1;33m \u001b[0mwrong\u001b[0m \u001b[1;33m=\u001b[0m \u001b[1;33m(\u001b[0m\u001b[0mY\u001b[0m \u001b[1;33m==\u001b[0m \u001b[0mY_hat\u001b[0m\u001b[1;33m)\u001b[0m\u001b[1;33m\u001b[0m\u001b[1;33m\u001b[0m\u001b[0m\n\u001b[0m\u001b[0;32m     12\u001b[0m \u001b[0mwrong\u001b[0m \u001b[1;33m=\u001b[0m \u001b[0mX\u001b[0m\u001b[1;33m[\u001b[0m\u001b[0mwrong\u001b[0m\u001b[1;33m==\u001b[0m\u001b[1;32mFalse\u001b[0m\u001b[1;33m]\u001b[0m\u001b[1;33m\u001b[0m\u001b[1;33m\u001b[0m\u001b[0m\n\u001b[0;32m     13\u001b[0m \u001b[0max\u001b[0m\u001b[1;33m.\u001b[0m\u001b[0mscatter\u001b[0m\u001b[1;33m(\u001b[0m\u001b[0mwrong\u001b[0m\u001b[1;33m[\u001b[0m\u001b[1;33m:\u001b[0m\u001b[1;33m,\u001b[0m\u001b[1;36m0\u001b[0m\u001b[1;33m]\u001b[0m\u001b[1;33m,\u001b[0m \u001b[0mwrong\u001b[0m\u001b[1;33m[\u001b[0m\u001b[1;33m:\u001b[0m\u001b[1;33m,\u001b[0m\u001b[1;36m1\u001b[0m\u001b[1;33m]\u001b[0m\u001b[1;33m,\u001b[0m \u001b[0ms\u001b[0m\u001b[1;33m=\u001b[0m\u001b[1;36m15\u001b[0m\u001b[1;33m,\u001b[0m\u001b[0malpha\u001b[0m \u001b[1;33m=\u001b[0m \u001b[1;36m1\u001b[0m\u001b[1;33m,\u001b[0m \u001b[0mlinewidth\u001b[0m\u001b[1;33m=\u001b[0m\u001b[1;36m1\u001b[0m\u001b[1;33m,\u001b[0m \u001b[0mfacecolors\u001b[0m\u001b[1;33m=\u001b[0m\u001b[1;34m'red'\u001b[0m\u001b[1;33m,\u001b[0m \u001b[0medgecolors\u001b[0m\u001b[1;33m=\u001b[0m\u001b[1;34m'k'\u001b[0m\u001b[1;33m,\u001b[0m \u001b[0mlabel\u001b[0m\u001b[1;33m=\u001b[0m\u001b[1;34m\"misclassification\"\u001b[0m\u001b[1;33m)\u001b[0m\u001b[1;33m\u001b[0m\u001b[1;33m\u001b[0m\u001b[0m\n",
      "\u001b[1;31mNameError\u001b[0m: name 'Y_hat' is not defined"
     ]
    },
    {
     "data": {
      "image/png": "[encoded data removed]",
      "text/plain": [
       "<Figure size 432x432 with 1 Axes>"
      ]
     },
     "metadata": {
      "needs_background": "light"
     },
     "output_type": "display_data"
    }
   ],
   "source": [
    "fig, ax = plt.subplots(figsize=(6, 6))\n",
    "\n",
    "squareSpace = 8\n",
    "xx, yy = np.meshgrid(np.linspace(-squareSpace, squareSpace, 500), np.linspace(-squareSpace, squareSpace, 500))\n",
    "xy = np.vstack([xx.ravel(), yy.ravel()]).T\n",
    "\n",
    "# Plot the dataset\n",
    "ax.scatter(X[:,0], X[:,1], c=Y)\n",
    "\n",
    "#show misclassification\n",
    "wrong = (Y == Y_hat)\n",
    "wrong = X[wrong==False]\n",
    "ax.scatter(wrong[:,0], wrong[:,1], s=15,alpha = 1, linewidth=1, facecolors='red', edgecolors='k', label=\"misclassification\")\n",
    "\n",
    "# Get the separating hyperplane\n",
    "Z = svm_classifier.decision_function(xy).reshape(xx.shape)\n",
    "\n",
    "# Draw the decision boundary and margins\n",
    "ax.contour(xx, yy, Z, colors='k', levels=[-1, 0, 1], alpha=0.5, linestyles=['--', '-', '--'])\n",
    "\n",
    "support_vecX1 = svm_classifier.support_vectors_[:, 0]\n",
    "support_vecX2 = svm_classifier.support_vectors_[:, 1]\n",
    "# Highlight support vectors with a circle around them\n",
    "ax.scatter(support_vecX1, support_vecX2, s=100, linewidth=1, facecolors='none', edgecolors='k',label='(highlighted)support vectors')\n",
    "plt.legend()\n",
    "plt.title(\"Misclasifications(Red Marked), Support Vectors and Classifier Function\",fontsize=18)\n",
    "plt.show()"
   ]
  },
  {
   "cell_type": "code",
   "execution_count": null,
   "id": "1883257a",
   "metadata": {},
   "outputs": [],
   "source": [
    "# X_train, X_test, y_train, y_test = train_test_split(X, Y, random_state=0)"
   ]
  },
  {
   "cell_type": "code",
   "execution_count": null,
   "id": "a259e13c",
   "metadata": {},
   "outputs": [],
   "source": [
    "svm = SVM()\n",
    "svm.fit(X, Y)"
   ]
  },
  {
   "cell_type": "code",
   "execution_count": null,
   "id": "08683d45",
   "metadata": {},
   "outputs": [],
   "source": [
    "def f(x, w, b, c=0):\n",
    "    return (-w[0] * x - b + c) / w[1]\n",
    "plt.scatter(X_train[:, 0], X_train[:, 1], c=y_train, cmap='Wistia')\n",
    "# w.x + b = 0\n",
    "a0 = -4; a1 = f(a0, svm.w, svm.b)\n",
    "b0 = 4; b1 = f(b0, svm.w, svm.b)\n",
    "plt.plot([a0,b0], [a1,b1], 'k');\n",
    "# w.x + b = 1\n",
    "a0 = -4; a1 = f(a0, svm.w, svm.b, 1)\n",
    "b0 = 4; b1 = f(b0, svm.w, svm.b, 1)\n",
    "plt.plot([a0,b0], [a1,b1], 'k--');\n",
    "# w.x + b = -1\n",
    "a0 = -4; a1 = f(a0, svm.w, svm.b, -1)\n",
    "b0 = 4; b1 = f(b0, svm.w, svm.b, -1)\n",
    "plt.plot([a0,b0], [a1,b1], 'k--');"
   ]
  },
  {
   "cell_type": "code",
   "execution_count": null,
   "id": "2db36e94",
   "metadata": {},
   "outputs": [],
   "source": [
    "y_pred = svm.predict(X_test)\n",
    "confusion_matrix(y_test, y_pred)"
   ]
  },
  {
   "cell_type": "code",
   "execution_count": null,
   "id": "6f35560f",
   "metadata": {},
   "outputs": [],
   "source": [
    "svc = LinearSVC()\n",
    "svc.fit(X_train, y_train)"
   ]
  },
  {
   "cell_type": "code",
   "execution_count": null,
   "id": "5cb2b05f",
   "metadata": {},
   "outputs": [],
   "source": [
    "plt.scatter(X_train[:, 0], X_train[:, 1], c=y_train, cmap='Wistia');\n",
    "ax = plt.gca()\n",
    "xlim = ax.get_xlim()\n",
    "w = svc.coef_[0]\n",
    "a = -w[0] / w[1]\n",
    "xx = np.linspace(xlim[0], xlim[1])\n",
    "yy = a * xx - svc.intercept_[0] / w[1]\n",
    "plt.plot(xx, yy);\n",
    "yy = a * xx - (svc.intercept_[0] - 1) / w[1]\n",
    "plt.plot(xx, yy, 'k--');\n",
    "yy = a * xx - (svc.intercept_[0] + 1) / w[1]\n",
    "plt.plot(xx, yy, 'k--');"
   ]
  },
  {
   "cell_type": "code",
   "execution_count": null,
   "id": "87696295",
   "metadata": {},
   "outputs": [],
   "source": []
  }
 ],
 "metadata": {
  "kernelspec": {
   "display_name": "Python 3",
   "language": "python",
   "name": "python3"
  },
  "language_info": {
   "codemirror_mode": {
    "name": "ipython",
    "version": 3
   },
   "file_extension": ".py",
   "mimetype": "text/x-python",
   "name": "python",
   "nbconvert_exporter": "python",
   "pygments_lexer": "ipython3",
   "version": "3.8.8"
  }
 },
 "nbformat": 4,
 "nbformat_minor": 5
}
